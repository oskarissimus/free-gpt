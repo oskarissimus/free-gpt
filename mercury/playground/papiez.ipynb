{
 "cells": [
  {
   "cell_type": "code",
   "execution_count": 4,
   "metadata": {},
   "outputs": [
    {
     "name": "stdout",
     "output_type": "stream",
     "text": [
      "0 code\t\t362\n",
      "0 output\t\t547\n",
      "0 error_output\t\t119\n",
      "0 timestamp\t\t19\n",
      "1 code\t\t362\n",
      "1 output\t\t544\n",
      "1 error_output\t\t119\n",
      "1 timestamp\t\t19\n",
      "2 code\t\t362\n",
      "2 output\t\t543\n",
      "2 error_output\t\t114\n",
      "2 timestamp\t\t19\n",
      "3 code\t\t362\n",
      "3 output\t\t624\n",
      "3 error_output\t\t243\n",
      "3 timestamp\t\t19\n",
      "4 code\t\t360\n",
      "4 output\t\t12\n",
      "4 error_output\t\t199\n",
      "4 timestamp\t\t19\n"
     ]
    }
   ],
   "source": [
    "output = [\n",
    "    {\n",
    "        \"code\": \"# Retrieve credentials for email\\nCREDS=$(gcloud secrets versions access latest --secret=\\\"email-credentials\\\")\\n\\n# Install necessary packages\\nsudo apt-get update && sudo apt-get -y install python3 python3-pip && python3 -m pip install google-auth google-auth-oauthlib google-auth-httplib2 google-api-python-client\\n\\n# Send email using Gmail API\\npython3 - <<EOF \\nfrom google.oauth2.credentials import Credentials\\nfrom googleapiclient.errors import HttpError\\nfrom googleapiclient.discovery import build\\nfrom googleapiclient import errors\\nimport base64\\nfrom email.mime.text import MIMEText\\nfrom email.mime.multipart import MIMEMultipart\\nfrom email.mime.image import MIMEImage\\nimport os\\n\\ncreds = Credentials.from_authorized_user_info(info=$CREDS)\\n\\ndef send_email(recipient, subject, body):\\n    try:\\n        service = build('gmail', 'v1', credentials=creds)\\n        message = MIMEMultipart()\\n        text = MIMEText(body)\\n        message.attach(text)\\n        message['to'] = recipient\\n        message['subject'] = subject\\n        create_message = {'raw': base64.urlsafe_b64encode(message.as_bytes()).decode()}\\n        send_message = (service.users().messages().send(userId=\\\"me\\\", body=create_message).execute())\\n        print(F'sent message to {recipient}. Message Id: {send_message[\\\"id\\\"]}')\\n    except HttpError as error:\\n        print(F'An error occurred: {error}')\\n\\nsend_email(\\\"oskarissimus@gmail.com\\\", \\\"Task Completed\\\", \\\"The task is completed.\\\") \\nEOF\\n\\n# Update progress and log email sending\\necho \\\"Task is completed. Email sent to oskarissimus@gmail.com.\\\" >> /home/debian/progress.txt\",\n",
    "        \"output\": \"Hit:1 http://packages.cloud.google.com/apt google-compute-engine-bullseye-stable InRelease\\nHit:2 http://deb.debian.org/debian bullseye InRelease\\nGet:3 http://security.debian.org/debian-security bullseye-security InRelease [48.4 kB]\\nHit:4 http://deb.debian.org/debian bullseye-updates InRelease\\nHit:5 http://packages.cloud.google.com/apt cloud-sdk-bullseye InRelease\\n(*** 27 lines omitted ***)\\nRequirement already satisfied: oauthlib>=3.0.0 in ./.local/lib/python3.9/site-packages (from requests-oauthlib>=0.7.0->google-auth-oauthlib) (3.2.2)\\nRequirement already satisfied: certifi>=2017.4.17 in ./.local/lib/python3.9/site-packages (from requests<3.0.0dev,>=2.18.0->google-api-core!=2.0.*,!=2.1.*,!=2.2.*,!=2.3.0,<3.0.0dev,>=1.31.5->google-api-python-client) (2022.12.7)\\nRequirement already satisfied: charset-normalizer<4,>=2 in ./.local/lib/python3.9/site-packages (from requests<3.0.0dev,>=2.18.0->google-api-core!=2.0.*,!=2.1.*,!=2.2.*,!=2.3.0,<3.0.0dev,>=1.31.5->google-api-python-client) (3.1.0)\\nRequirement already satisfied: urllib3<1.27,>=1.21.1 in ./.local/lib/python3.9/site-packages (from requests<3.0.0dev,>=2.18.0->google-api-core!=2.0.*,!=2.1.*,!=2.2.*,!=2.3.0,<3.0.0dev,>=1.31.5->google-api-python-client) (1.26.15)\\nRequirement already satisfied: idna<4,>=2.5 in ./.local/lib/python3.9/site-packages (from requests<3.0.0dev,>=2.18.0->google-api-core!=2.0.*,!=2.1.*,!=2.2.*,!=2.3.0,<3.0.0dev,>=1.31.5->google-api-python-client) (3.4)\\n===> summary: The command installed several requirements and showed that they were already satisfied.\",\n",
    "        \"error_output\": \"ERROR: (gcloud.secrets.versions.access) PERMISSION_DENIED: Permission 'secretmanager.versions.access' denied for resource 'projects/qualified-day-382110/secrets/email-credentials/versions/latest' (or it may not exist).\\n  File \\\"<stdin>\\\", line 11\\n    creds = Credentials.from_authorized_user_info(info=)\\n                                                  ^\\nSyntaxError: expression cannot contain assignment, perhaps you meant \\\"==\\\"?\\n\\n===> summary: The command failed with a PERMISSION_DENIED error while trying to retrieve credentials for email and a SyntaxError occurred in line 11 of the executed code.\",\n",
    "        \"timestamp\": \"2023-03-30 21:57:29.320116+00:00\",\n",
    "    },\n",
    "    {\n",
    "        \"code\": \"# Retrieve credentials for email\\nCREDS=$(gcloud secrets versions access latest --secret=\\\"email-credentials\\\")\\n\\n# Install necessary packages\\nsudo apt-get update && sudo apt-get -y install python3 python3-pip && python3 -m pip install google-auth google-auth-oauthlib google-auth-httplib2 google-api-python-client\\n\\n# Send email using Gmail API\\npython3 - <<EOF \\nfrom google.oauth2.credentials import Credentials\\nfrom googleapiclient.errors import HttpError\\nfrom googleapiclient.discovery import build\\nfrom googleapiclient import errors\\nimport base64\\nfrom email.mime.text import MIMEText\\nfrom email.mime.multipart import MIMEMultipart\\nfrom email.mime.image import MIMEImage\\nimport os\\n\\ncreds = Credentials.from_authorized_user_info(info=$CREDS)\\n\\ndef send_email(recipient, subject, body):\\n    try:\\n        service = build('gmail', 'v1', credentials=creds)\\n        message = MIMEMultipart()\\n        text = MIMEText(body)\\n        message.attach(text)\\n        message['to'] = recipient\\n        message['subject'] = subject\\n        create_message = {'raw': base64.urlsafe_b64encode(message.as_bytes()).decode()}\\n        send_message = (service.users().messages().send(userId=\\\"me\\\", body=create_message).execute())\\n        print(F'sent message to {recipient}. Message Id: {send_message[\\\"id\\\"]}')\\n    except HttpError as error:\\n        print(F'An error occurred: {error}')\\n\\nsend_email(\\\"oskarissimus@gmail.com\\\", \\\"Task Completed\\\", \\\"The task is completed.\\\") \\nEOF\\n\\n# Update progress and log email sending\\necho \\\"Task is completed. Email sent to oskarissimus@gmail.com.\\\" >> /home/debian/progress.txt\",\n",
    "        \"output\": \"Hit:1 http://packages.cloud.google.com/apt google-compute-engine-bullseye-stable InRelease\\nHit:2 http://security.debian.org/debian-security bullseye-security InRelease\\nHit:3 http://deb.debian.org/debian bullseye InRelease\\nHit:4 http://deb.debian.org/debian bullseye-updates InRelease\\nHit:5 http://packages.cloud.google.com/apt cloud-sdk-bullseye InRelease\\n(*** 26 lines omitted ***)\\nRequirement already satisfied: oauthlib>=3.0.0 in ./.local/lib/python3.9/site-packages (from requests-oauthlib>=0.7.0->google-auth-oauthlib) (3.2.2)\\nRequirement already satisfied: urllib3<1.27,>=1.21.1 in ./.local/lib/python3.9/site-packages (from requests<3.0.0dev,>=2.18.0->google-api-core!=2.0.*,!=2.1.*,!=2.2.*,!=2.3.0,<3.0.0dev,>=1.31.5->google-api-python-client) (1.26.15)\\nRequirement already satisfied: idna<4,>=2.5 in ./.local/lib/python3.9/site-packages (from requests<3.0.0dev,>=2.18.0->google-api-core!=2.0.*,!=2.1.*,!=2.2.*,!=2.3.0,<3.0.0dev,>=1.31.5->google-api-python-client) (3.4)\\nRequirement already satisfied: certifi>=2017.4.17 in ./.local/lib/python3.9/site-packages (from requests<3.0.0dev,>=2.18.0->google-api-core!=2.0.*,!=2.1.*,!=2.2.*,!=2.3.0,<3.0.0dev,>=1.31.5->google-api-python-client) (2022.12.7)\\nRequirement already satisfied: charset-normalizer<4,>=2 in ./.local/lib/python3.9/site-packages (from requests<3.0.0dev,>=2.18.0->google-api-core!=2.0.*,!=2.1.*,!=2.2.*,!=2.3.0,<3.0.0dev,>=1.31.5->google-api-python-client) (3.1.0)\\n===> summary: The command to retrieve credentials for email was successful and installed some Python packages.\",\n",
    "        \"error_output\": \"ERROR: (gcloud.secrets.versions.access) PERMISSION_DENIED: Permission 'secretmanager.versions.access' denied for resource 'projects/qualified-day-382110/secrets/email-credentials/versions/latest' (or it may not exist).\\n  File \\\"<stdin>\\\", line 11\\n    creds = Credentials.from_authorized_user_info(info=)\\n                                                  ^\\nSyntaxError: expression cannot contain assignment, perhaps you meant \\\"==\\\"?\\n\\n===> summary: The attempt to retrieve email credentials from Google Cloud secrets using the given command failed due to permission denial error with a syntax error at the specified line.\",\n",
    "        \"timestamp\": \"2023-03-30 21:24:28.440416+00:00\",\n",
    "    },\n",
    "    {\n",
    "        \"code\": \"# Retrieve credentials for email\\nCREDS=$(gcloud secrets versions access latest --secret=\\\"email-credentials\\\")\\n\\n# Install necessary packages\\nsudo apt-get update && sudo apt-get -y install python3 python3-pip && python3 -m pip install google-auth google-auth-oauthlib google-auth-httplib2 google-api-python-client\\n\\n# Send email using Gmail API\\npython3 - <<EOF \\nfrom google.oauth2.credentials import Credentials\\nfrom googleapiclient.errors import HttpError\\nfrom googleapiclient.discovery import build\\nfrom googleapiclient import errors\\nimport base64\\nfrom email.mime.text import MIMEText\\nfrom email.mime.multipart import MIMEMultipart\\nfrom email.mime.image import MIMEImage\\nimport os\\n\\ncreds = Credentials.from_authorized_user_info(info=$CREDS)\\n\\ndef send_email(recipient, subject, body):\\n    try:\\n        service = build('gmail', 'v1', credentials=creds)\\n        message = MIMEMultipart()\\n        text = MIMEText(body)\\n        message.attach(text)\\n        message['to'] = recipient\\n        message['subject'] = subject\\n        create_message = {'raw': base64.urlsafe_b64encode(message.as_bytes()).decode()}\\n        send_message = (service.users().messages().send(userId=\\\"me\\\", body=create_message).execute())\\n        print(F'sent message to {recipient}. Message Id: {send_message[\\\"id\\\"]}')\\n    except HttpError as error:\\n        print(F'An error occurred: {error}')\\n\\nsend_email(\\\"oskarissimus@gmail.com\\\", \\\"Task Completed\\\", \\\"The task is completed.\\\") \\nEOF\\n\\n# Update progress and log email sending\\necho \\\"Task is completed. Email sent to oskarissimus@gmail.com.\\\" >> /home/debian/progress.txt\",\n",
    "        \"output\": \"Hit:1 http://packages.cloud.google.com/apt google-compute-engine-bullseye-stable InRelease\\nHit:2 http://deb.debian.org/debian bullseye InRelease\\nHit:3 http://security.debian.org/debian-security bullseye-security InRelease\\nHit:4 http://deb.debian.org/debian bullseye-updates InRelease\\nHit:5 http://packages.cloud.google.com/apt cloud-sdk-bullseye InRelease\\n(*** 26 lines omitted ***)\\nRequirement already satisfied: oauthlib>=3.0.0 in ./.local/lib/python3.9/site-packages (from requests-oauthlib>=0.7.0->google-auth-oauthlib) (3.2.2)\\nRequirement already satisfied: certifi>=2017.4.17 in ./.local/lib/python3.9/site-packages (from requests<3.0.0dev,>=2.18.0->google-api-core!=2.0.*,!=2.1.*,!=2.2.*,!=2.3.0,<3.0.0dev,>=1.31.5->google-api-python-client) (2022.12.7)\\nRequirement already satisfied: urllib3<1.27,>=1.21.1 in ./.local/lib/python3.9/site-packages (from requests<3.0.0dev,>=2.18.0->google-api-core!=2.0.*,!=2.1.*,!=2.2.*,!=2.3.0,<3.0.0dev,>=1.31.5->google-api-python-client) (1.26.15)\\nRequirement already satisfied: charset-normalizer<4,>=2 in ./.local/lib/python3.9/site-packages (from requests<3.0.0dev,>=2.18.0->google-api-core!=2.0.*,!=2.1.*,!=2.2.*,!=2.3.0,<3.0.0dev,>=1.31.5->google-api-python-client) (3.1.0)\\nRequirement already satisfied: idna<4,>=2.5 in ./.local/lib/python3.9/site-packages (from requests<3.0.0dev,>=2.18.0->google-api-core!=2.0.*,!=2.1.*,!=2.2.*,!=2.3.0,<3.0.0dev,>=1.31.5->google-api-python-client) (3.4)\\n===> summary: The command retrieves credentials for email and output confirms the already satisfied requirements.\",\n",
    "        \"error_output\": \"ERROR: (gcloud.secrets.versions.access) PERMISSION_DENIED: Permission 'secretmanager.versions.access' denied for resource 'projects/qualified-day-382110/secrets/email-credentials/versions/latest' (or it may not exist).\\n  File \\\"<stdin>\\\", line 11\\n    creds = Credentials.from_authorized_user_info(info=)\\n                                                  ^\\nSyntaxError: expression cannot contain assignment, perhaps you meant \\\"==\\\"?\\n\\n===> summary: The command to retrieve email credentials from gcloud secrets failed with a permission denied error and a syntax error in the code.\",\n",
    "        \"timestamp\": \"2023-03-30 21:21:32.504575+00:00\",\n",
    "    },\n",
    "    {\n",
    "        \"code\": \"# Retrieve credentials for email\\nCREDS=$(gcloud secrets versions access latest --secret=\\\"email-credentials\\\")\\n\\n# Install necessary packages\\nsudo apt-get update && sudo apt-get -y install python3 python3-pip && python3 -m pip install google-auth google-auth-oauthlib google-auth-httplib2 google-api-python-client\\n\\n# Send email using Gmail API\\npython3 - <<EOF \\nfrom google.oauth2.credentials import Credentials\\nfrom googleapiclient.errors import HttpError\\nfrom googleapiclient.discovery import build\\nfrom googleapiclient import errors\\nimport base64\\nfrom email.mime.text import MIMEText\\nfrom email.mime.multipart import MIMEMultipart\\nfrom email.mime.image import MIMEImage\\nimport os\\n\\ncreds = Credentials.from_authorized_user_info(info=$CREDS)\\n\\ndef send_email(recipient, subject, body):\\n    try:\\n        service = build('gmail', 'v1', credentials=creds)\\n        message = MIMEMultipart()\\n        text = MIMEText(body)\\n        message.attach(text)\\n        message['to'] = recipient\\n        message['subject'] = subject\\n        create_message = {'raw': base64.urlsafe_b64encode(message.as_bytes()).decode()}\\n        send_message = (service.users().messages().send(userId=\\\"me\\\", body=create_message).execute())\\n        print(F'sent message to {recipient}. Message Id: {send_message[\\\"id\\\"]}')\\n    except HttpError as error:\\n        print(F'An error occurred: {error}')\\n\\nsend_email(\\\"oskarissimus@gmail.com\\\", \\\"Task Completed\\\", \\\"The task is completed.\\\") \\nEOF\\n\\n# Update progress and log email sending\\necho \\\"Task is completed. Email sent to oskarissimus@gmail.com.\\\" >> /home/debian/progress.txt\",\n",
    "        \"output\": \"Hit:1 http://security.debian.org/debian-security bullseye-security InRelease\\nHit:2 http://deb.debian.org/debian bullseye InRelease\\nHit:3 http://packages.cloud.google.com/apt google-compute-engine-bullseye-stable InRelease\\nHit:4 http://deb.debian.org/debian bullseye-updates InRelease\\nHit:5 http://deb.debian.org/debian bullseye-backports InRelease\\n(*** 54 lines omitted ***)\\nRequirement already satisfied: idna<4,>=2.5 in ./.local/lib/python3.9/site-packages (from requests<3.0.0dev,>=2.18.0->google-api-core!=2.0.*,!=2.1.*,!=2.2.*,!=2.3.0,<3.0.0dev,>=1.31.5->google-api-python-client) (3.4)\\nRequirement already satisfied: certifi>=2017.4.17 in ./.local/lib/python3.9/site-packages (from requests<3.0.0dev,>=2.18.0->google-api-core!=2.0.*,!=2.1.*,!=2.2.*,!=2.3.0,<3.0.0dev,>=1.31.5->google-api-python-client) (2022.12.7)\\nRequirement already satisfied: charset-normalizer<4,>=2 in ./.local/lib/python3.9/site-packages (from requests<3.0.0dev,>=2.18.0->google-api-core!=2.0.*,!=2.1.*,!=2.2.*,!=2.3.0,<3.0.0dev,>=1.31.5->google-api-python-client) (3.1.0)\\nInstalling collected packages: pyasn1, uritemplate, rsa, pyparsing, pyasn1-modules, protobuf, oauthlib, cachetools, requests-oauthlib, httplib2, googleapis-common-protos, google-auth, google-auth-oauthlib, google-auth-httplib2, google-api-core, google-api-python-client\\nSuccessfully installed cachetools-5.3.0 google-api-core-2.11.0 google-api-python-client-2.83.0 google-auth-2.17.0 google-auth-httplib2-0.1.0 google-auth-oauthlib-1.0.0 googleapis-common-protos-1.59.0 httplib2-0.22.0 oauthlib-3.2.2 protobuf-4.22.1 pyasn1-0.4.8 pyasn1-modules-0.2.8 pyparsing-3.0.9 requests-oauthlib-1.3.1 rsa-4.9 uritemplate-4.1.1\\n===> summary: The shell command installed Python packages including google-auth, google-api-python-client, and their dependencies.\",\n",
    "        \"error_output\": \"ERROR: (gcloud.secrets.versions.access) PERMISSION_DENIED: Permission 'secretmanager.versions.access' denied for resource 'projects/qualified-day-382110/secrets/email-credentials/versions/latest' (or it may not exist).\\n  WARNING: The scripts pyrsa-decrypt, pyrsa-encrypt, pyrsa-keygen, pyrsa-priv2pub, pyrsa-sign and pyrsa-verify are installed in '/home/debian/.local/bin' which is not on PATH.\\n  Consider adding this directory to PATH or, if you prefer to suppress this warning, use --no-warn-script-location.\\n  WARNING: The script google-oauthlib-tool is installed in '/home/debian/.local/bin' which is not on PATH.\\n  Consider adding this directory to PATH or, if you prefer to suppress this warning, use --no-warn-script-location.\\n  File \\\"<stdin>\\\", line 11\\n    creds = Credentials.from_authorized_user_info(info=)\\n                                                  ^\\nSyntaxError: expression cannot contain assignment, perhaps you meant \\\"==\\\"?\\n\\n===> summary: The command was unsuccessful due to a permission error, and produced several warning messages and a syntax error related to an assignment.\",\n",
    "        \"timestamp\": \"2023-03-30 21:20:34.567554+00:00\",\n",
    "    },\n",
    "    {\n",
    "        \"code\": \"# Retrieve credentials for email\\nCREDS=$(gcloud secrets versions access latest --secret=\\\"email-credentials\\\")\\n\\n# Install necessary packages\\napt-get update && apt-get -y install python3 python3-pip && python3 -m pip install google-auth google-auth-oauthlib google-auth-httplib2 google-api-python-client\\n\\n# Send email using Gmail API\\npython3 - <<EOF \\nfrom google.oauth2.credentials import Credentials\\nfrom googleapiclient.errors import HttpError\\nfrom googleapiclient.discovery import build\\nfrom googleapiclient import errors\\nimport base64\\nfrom email.mime.text import MIMEText\\nfrom email.mime.multipart import MIMEMultipart\\nfrom email.mime.image import MIMEImage\\nimport os\\n\\ncreds = Credentials.from_authorized_user_info(info=$CREDS)\\n\\ndef send_email(recipient, subject, body):\\n    try:\\n        service = build('gmail', 'v1', credentials=creds)\\n        message = MIMEMultipart()\\n        text = MIMEText(body)\\n        message.attach(text)\\n        message['to'] = recipient\\n        message['subject'] = subject\\n        create_message = {'raw': base64.urlsafe_b64encode(message.as_bytes()).decode()}\\n        send_message = (service.users().messages().send(userId=\\\"me\\\", body=create_message).execute())\\n        print(F'sent message to {recipient}. Message Id: {send_message[\\\"id\\\"]}')\\n    except HttpError as error:\\n        print(F'An error occurred: {error}')\\n\\nsend_email(\\\"oskarissimus@gmail.com\\\", \\\"Task Completed\\\", \\\"The task is completed.\\\") \\nEOF\\n\\n# Update progress and log email sending\\necho \\\"Task is completed. Email sent to oskarissimus@gmail.com.\\\" >> /home/debian/progress.txt\",\n",
    "        \"output\": \"Reading package lists...\\n\\n===> summary: Reading package lists...\\n\",\n",
    "        \"error_output\": \"ERROR: (gcloud.secrets.versions.access) PERMISSION_DENIED: Permission 'secretmanager.versions.access' denied for resource 'projects/qualified-day-382110/secrets/email-credentials/versions/latest' (or it may not exist).\\nE: Could not open lock file /var/lib/apt/lists/lock - open (13: Permission denied)\\nE: Unable to lock directory /var/lib/apt/lists/\\nW: Problem unlinking the file /var/cache/apt/pkgcache.bin - RemoveCaches (13: Permission denied)\\nW: Problem unlinking the file /var/cache/apt/srcpkgcache.bin - RemoveCaches (13: Permission denied)\\n  File \\\"<stdin>\\\", line 11\\n    creds = Credentials.from_authorized_user_info(info=)\\n                                                  ^\\nSyntaxError: expression cannot contain assignment, perhaps you meant \\\"==\\\"?\\n\\n===> summary: The command failed to retrieve the email credentials due to permission denied and there were additional errors related to apt directory access and syntax error.\",\n",
    "        \"timestamp\": \"2023-03-30 21:18:19.407827+00:00\",\n",
    "    },\n",
    "]\n",
    "\n",
    "from mercury.utils import count_tokens\n",
    "\n",
    "for idx, entry in enumerate(output):\n",
    "    for key, value in entry.items():\n",
    "        print(f\"{idx} {key}\\t\\t{count_tokens(value)}\")"
   ]
  },
  {
   "cell_type": "code",
   "execution_count": 8,
   "metadata": {},
   "outputs": [
    {
     "name": "stdout",
     "output_type": "stream",
     "text": [
      "Hit:1 http://security.debian.org/debian-security bullseye-security InRelease\n",
      "Hit:2 http://deb.debian.org/debian bullseye InRelease\n",
      "Hit:3 http://packages.cloud.google.com/apt google-compute-engine-bullseye-stable InRelease\n",
      "Hit:4 http://deb.debian.org/debian bullseye-updates InRelease\n",
      "Hit:5 http://deb.debian.org/debian bullseye-backports InRelease\n",
      "(*** 54 lines omitted ***)\n",
      "Requirement already satisfied: idna<4,>=2.5 in ./.local/lib/python3.9/site-packages (from requests<3.0.0dev,>=2.18.0->google-api-core!=2.0.*,!=2.1.*,!=2.2.*,!=2.3.0,<3.0.0dev,>=1.31.5->google-api-python-client) (3.4)\n",
      "Requirement already satisfied: certifi>=2017.4.17 in ./.local/lib/python3.9/site-packages (from requests<3.0.0dev,>=2.18.0->google-api-core!=2.0.*,!=2.1.*,!=2.2.*,!=2.3.0,<3.0.0dev,>=1.31.5->google-api-python-client) (2022.12.7)\n",
      "Requirement already satisfied: charset-normalizer<4,>=2 in ./.local/lib/python3.9/site-packages (from requests<3.0.0dev,>=2.18.0->google-api-core!=2.0.*,!=2.1.*,!=2.2.*,!=2.3.0,<3.0.0dev,>=1.31.5->google-api-python-client) (3.1.0)\n",
      "Installing collected packages: pyasn1, uritemplate, rsa, pyparsing, pyasn1-modules, protobuf, oauthlib, cachetools, requests-oauthlib, httplib2, googleapis-common-protos, google-auth, google-auth-oauthlib, google-auth-httplib2, google-api-core, google-api-python-client\n",
      "Successfully installed cachetools-5.3.0 google-api-core-2.11.0 google-api-python-client-2.83.0 google-auth-2.17.0 google-auth-httplib2-0.1.0 google-auth-oauthlib-1.0.0 googleapis-common-protos-1.59.0 httplib2-0.22.0 oauthlib-3.2.2 protobuf-4.22.1 pyasn1-0.4.8 pyasn1-modules-0.2.8 pyparsing-3.0.9 requests-oauthlib-1.3.1 rsa-4.9 uritemplate-4.1.1\n",
      "===> summary: The shell command installed Python packages including google-auth, google-api-python-client, and their dependencies.\n"
     ]
    }
   ],
   "source": [
    "print(output[3]['output'])"
   ]
  },
  {
   "cell_type": "code",
   "execution_count": 9,
   "metadata": {},
   "outputs": [
    {
     "name": "stdout",
     "output_type": "stream",
     "text": [
      "hello world\n"
     ]
    }
   ],
   "source": [
    "[\"hello\", \"world\"]\n",
    "# join the list with a space\n",
    "print(\" \".join([\"hello\", \"world\"]))"
   ]
  },
  {
   "cell_type": "code",
   "execution_count": 15,
   "metadata": {},
   "outputs": [
    {
     "data": {
      "text/plain": [
       "'1680219268'"
      ]
     },
     "execution_count": 15,
     "metadata": {},
     "output_type": "execute_result"
    }
   ],
   "source": [
    "import datetime\n",
    "# show timestamp in posix format in full seconds\n",
    "str(int(datetime.datetime.now().timestamp()))\n"
   ]
  },
  {
   "cell_type": "code",
   "execution_count": 17,
   "metadata": {},
   "outputs": [
    {
     "name": "stdout",
     "output_type": "stream",
     "text": [
      "Input: print('hello world')\n",
      "Output: hello world\n",
      "Error output: \n",
      "Timestamp: 1680222822\n"
     ]
    }
   ],
   "source": [
    "from typing import Optional\n",
    "\n",
    "from pydantic import BaseModel\n",
    "\n",
    "\n",
    "class CodeExecutionDTO(BaseModel):\n",
    "    code: str\n",
    "    output: str\n",
    "    error_output: str\n",
    "    timestamp: Optional[str] = None\n",
    "\n",
    "    def __str__(self):\n",
    "        return f\"\"\"Input: {self.code}\n",
    "Output: {self.output}\n",
    "Error output: {self.error_output}\n",
    "Timestamp: {self.timestamp}\"\"\"\n",
    "\n",
    "    def __repr__(self):\n",
    "        return self.__str__()\n",
    "\n",
    "execution = CodeExecutionDTO(\n",
    "    code=\"print('hello world')\",\n",
    "    output=\"hello world\",\n",
    "    error_output=\"\",\n",
    "    timestamp=str(int(datetime.datetime.now().timestamp())),\n",
    ")\n",
    "\n",
    "print(str(execution))"
   ]
  },
  {
   "cell_type": "code",
   "execution_count": null,
   "metadata": {},
   "outputs": [],
   "source": []
  }
 ],
 "metadata": {
  "kernelspec": {
   "display_name": "mercury-M3lfQhzw-py3.10",
   "language": "python",
   "name": "python3"
  },
  "language_info": {
   "codemirror_mode": {
    "name": "ipython",
    "version": 3
   },
   "file_extension": ".py",
   "mimetype": "text/x-python",
   "name": "python",
   "nbconvert_exporter": "python",
   "pygments_lexer": "ipython3",
   "version": "3.10.6"
  },
  "orig_nbformat": 4,
  "vscode": {
   "interpreter": {
    "hash": "fdb8a587d5b137cfab4b16a8b5fd01e32cb12b188ed07ab52844f6ddcff2357b"
   }
  }
 },
 "nbformat": 4,
 "nbformat_minor": 2
}
