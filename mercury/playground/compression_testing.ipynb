{
 "cells": [
  {
   "cell_type": "code",
   "execution_count": 2,
   "metadata": {},
   "outputs": [],
   "source": [
    "%load_ext dotenv"
   ]
  },
  {
   "cell_type": "code",
   "execution_count": 3,
   "metadata": {},
   "outputs": [],
   "source": [
    "%dotenv"
   ]
  },
  {
   "cell_type": "code",
   "execution_count": 4,
   "metadata": {},
   "outputs": [],
   "source": [
    "OUTPUT = \"\"\"Hit:1 http://archive.ubuntu.com/ubuntu jammy InRelease\n",
    "Get:2 http://security.ubuntu.com/ubuntu jammy-security InRelease [110 kB]                                                     \n",
    "Get:3 https://apt.releases.hashicorp.com jammy InRelease [12.9 kB]                                                                       \n",
    "Get:4 http://archive.ubuntu.com/ubuntu jammy-updates InRelease [119 kB]                                                                               \n",
    "Get:5 https://packages.cloud.google.com/apt cloud-sdk InRelease [6361 B]                                           \n",
    "Get:6 https://apt.releases.hashicorp.com jammy/main amd64 Packages [81.1 kB]                         \n",
    "Get:7 http://archive.ubuntu.com/ubuntu jammy-backports InRelease [107 kB]\n",
    "Get:8 http://security.ubuntu.com/ubuntu jammy-security/main amd64 Packages [728 kB]\n",
    "Get:9 http://archive.ubuntu.com/ubuntu jammy-updates/main amd64 Packages [986 kB]\n",
    "Get:10 http://security.ubuntu.com/ubuntu jammy-security/main Translation-en [146 kB]\n",
    "Get:11 http://security.ubuntu.com/ubuntu jammy-security/main amd64 c-n-f Metadata [9016 B]    \n",
    "Get:12 http://security.ubuntu.com/ubuntu jammy-security/restricted amd64 Packages [701 kB]\n",
    "Get:13 http://security.ubuntu.com/ubuntu jammy-security/restricted Translation-en [109 kB]      \n",
    "Get:14 http://security.ubuntu.com/ubuntu jammy-security/universe amd64 Packages [715 kB]\n",
    "Get:15 http://archive.ubuntu.com/ubuntu jammy-updates/main Translation-en [210 kB]\n",
    "Get:16 http://security.ubuntu.com/ubuntu jammy-security/universe amd64 c-n-f Metadata [14.1 kB]\n",
    "Get:17 http://archive.ubuntu.com/ubuntu jammy-updates/main amd64 c-n-f Metadata [13.9 kB]\n",
    "Get:18 http://archive.ubuntu.com/ubuntu jammy-updates/restricted amd64 Packages [739 kB]\n",
    "Get:19 http://archive.ubuntu.com/ubuntu jammy-updates/universe amd64 Packages [898 kB]\n",
    "Get:20 http://archive.ubuntu.com/ubuntu jammy-updates/universe amd64 c-n-f Metadata [18.5 kB]\n",
    "Get:21 http://archive.ubuntu.com/ubuntu jammy-backports/universe amd64 Packages [20.3 kB]\n",
    "Get:22 http://archive.ubuntu.com/ubuntu jammy-backports/universe Translation-en [14.4 kB]\n",
    "Get:23 http://archive.ubuntu.com/ubuntu jammy-backports/universe amd64 c-n-f Metadata [480 B]\n",
    "Fetched 5759 kB in 1s (4861 kB/s)                                     \n",
    "Reading package lists... Done\n",
    "Building dependency tree... Done\n",
    "Reading state information... Done\n",
    "All packages are up to date.\"\"\"\n",
    "\n",
    "COMMAND = \"sudo apt-get update\""
   ]
  },
  {
   "cell_type": "code",
   "execution_count": 7,
   "metadata": {},
   "outputs": [
    {
     "name": "stdout",
     "output_type": "stream",
     "text": [
      "The command 'sudo apt-get update' was successful in updating all packages and dependencies in the system.\n"
     ]
    }
   ],
   "source": [
    "from mercury.settings import Settings\n",
    "from mercury.openai_client import OpenaiClient\n",
    "\n",
    "settings = Settings()\n",
    "openai_client = OpenaiClient(settings)\n",
    "\n",
    "\n",
    "prompt = openai_client.summarize_command_output(COMMAND, OUTPUT)\n",
    "print(prompt)"
   ]
  },
  {
   "cell_type": "code",
   "execution_count": null,
   "metadata": {},
   "outputs": [],
   "source": []
  }
 ],
 "metadata": {
  "kernelspec": {
   "display_name": "mercury-M3lfQhzw-py3.10",
   "language": "python",
   "name": "python3"
  },
  "language_info": {
   "codemirror_mode": {
    "name": "ipython",
    "version": 3
   },
   "file_extension": ".py",
   "mimetype": "text/x-python",
   "name": "python",
   "nbconvert_exporter": "python",
   "pygments_lexer": "ipython3",
   "version": "3.10.6"
  },
  "orig_nbformat": 4
 },
 "nbformat": 4,
 "nbformat_minor": 2
}
